{
 "cells": [
  {
   "cell_type": "code",
   "execution_count": 1,
   "metadata": {},
   "outputs": [
    {
     "name": "stderr",
     "output_type": "stream",
     "text": [
      "D:\\Selvaria\\Anaconda\\lib\\site-packages\\h5py\\__init__.py:36: FutureWarning: Conversion of the second argument of issubdtype from `float` to `np.floating` is deprecated. In future, it will be treated as `np.float64 == np.dtype(float).type`.\n",
      "  from ._conv import register_converters as _register_converters\n"
     ]
    },
    {
     "name": "stdout",
     "output_type": "stream",
     "text": [
      "2.0.0\n"
     ]
    }
   ],
   "source": [
    "# -*-conding: utf8 -*-\n",
    "# !/usr/bin/python\n",
    "# Author: Selvaria\n",
    "\n",
    "# 稠密网络\n",
    "\n",
    "import tensorflow as tf\n",
    "import numpy as np\n",
    "print(tf.__version__)"
   ]
  },
  {
   "cell_type": "code",
   "execution_count": 2,
   "metadata": {},
   "outputs": [],
   "source": [
    "# DenseNet使用了ResNet改良版的“批量归一化、激活和卷积”结构，我们首先在BottleNeck函数里实现这个结构。\n",
    "# 在前向计算时，我们将每块的输入和输出在通道维上连结。\n",
    "\n",
    "import tensorflow as tf\n",
    "\n",
    "class BottleNeck(tf.keras.layers.Layer):\n",
    "    def __init__(self, growth_rate, drop_rate):\n",
    "        super(BottleNeck, self).__init__()\n",
    "        self.bn1 = tf.keras.layers.BatchNormalization()\n",
    "        self.conv1 = tf.keras.layers.Conv2D(filters=4 * growth_rate,\n",
    "                                            kernel_size=(1, 1),\n",
    "                                            strides=1,\n",
    "                                            padding=\"same\")\n",
    "        self.bn2 = tf.keras.layers.BatchNormalization()\n",
    "        self.conv2 = tf.keras.layers.Conv2D(filters=growth_rate,\n",
    "                                            kernel_size=(3, 3),\n",
    "                                            strides=1,\n",
    "                                            padding=\"same\")\n",
    "        self.dropout = tf.keras.layers.Dropout(rate=drop_rate)\n",
    "\n",
    "        self.listLayers = [self.bn1,\n",
    "                           tf.keras.layers.Activation(\"relu\"),\n",
    "                           self.conv1,\n",
    "                           self.bn2,\n",
    "                           tf.keras.layers.Activation(\"relu\"),\n",
    "                           self.conv2,\n",
    "                           self.dropout]\n",
    "\n",
    "    def call(self, x):\n",
    "        y = x\n",
    "        for layer in self.listLayers.layers:\n",
    "            y = layer(y)\n",
    "        y = tf.keras.layers.concatenate([x,y], axis=-1)\n",
    "        return y"
   ]
  },
  {
   "cell_type": "code",
   "execution_count": 3,
   "metadata": {},
   "outputs": [],
   "source": [
    "# 稠密块由多个BottleNeck组成，每块使用相同的输出通道数\n",
    "\n",
    "class DenseBlock(tf.keras.layers.Layer):\n",
    "    def __init__(self, num_layers, growth_rate, drop_rate=0.5):\n",
    "        super(DenseBlock, self).__init__()\n",
    "        self.num_layers = num_layers\n",
    "        self.growth_rate = growth_rate\n",
    "        self.drop_rate = drop_rate\n",
    "        self.listLayers = []\n",
    "        for _ in range(num_layers):\n",
    "            self.listLayers.append(BottleNeck(growth_rate=self.growth_rate, drop_rate=self.drop_rate))\n",
    "\n",
    "    def call(self, x):\n",
    "        for layer in self.listLayers.layers:\n",
    "            x = layer(x)\n",
    "        return x"
   ]
  },
  {
   "cell_type": "code",
   "execution_count": 12,
   "metadata": {},
   "outputs": [
    {
     "name": "stdout",
     "output_type": "stream",
     "text": [
      "Model: \"sequential_3\"\n",
      "_________________________________________________________________\n",
      "Layer (type)                 Output Shape              Param #   \n",
      "=================================================================\n",
      "conv2d_9 (Conv2D)            (None, 28, 28, 10)        100       \n",
      "=================================================================\n",
      "Total params: 100\n",
      "Trainable params: 100\n",
      "Non-trainable params: 0\n",
      "_________________________________________________________________\n"
     ]
    }
   ],
   "source": [
    "m = tf.keras.models.Sequential()\n",
    "m.add(tf.keras.layers.Conv2D(filters=10, kernel_size=(3, 3), strides=1, padding=\"same\", input_shape=(28,28,1)))\n",
    "m.summary()"
   ]
  },
  {
   "cell_type": "code",
   "execution_count": 4,
   "metadata": {},
   "outputs": [
    {
     "name": "stdout",
     "output_type": "stream",
     "text": [
      "(4, 8, 8, 23)\n"
     ]
    }
   ],
   "source": [
    "blk = DenseBlock(2, 10)\n",
    "X = tf.random.uniform((4, 8, 8,3))\n",
    "Y = blk(X)\n",
    "print(Y.shape)"
   ]
  },
  {
   "cell_type": "code",
   "execution_count": 10,
   "metadata": {},
   "outputs": [
    {
     "data": {
      "text/plain": [
       "TensorShape([4, 4, 4, 10])"
      ]
     },
     "execution_count": 10,
     "metadata": {},
     "output_type": "execute_result"
    }
   ],
   "source": [
    "# 5.12.2 过渡层\n",
    "# 过渡层用来控制模型复杂度。它通过1×1卷积层来减小通道数，并使用步幅为2的平均池化层减半高和宽，从而进一步降低模型复杂度。\n",
    "\n",
    "class TransitionLayer(tf.keras.layers.Layer):\n",
    "    def __init__(self, out_channels):\n",
    "        super(TransitionLayer, self).__init__()\n",
    "        self.bn = tf.keras.layers.BatchNormalization()\n",
    "        self.conv = tf.keras.layers.Conv2D(filters=out_channels,\n",
    "                                           kernel_size=(1, 1),\n",
    "                                           strides=1,\n",
    "                                           padding=\"same\")\n",
    "        self.pool = tf.keras.layers.MaxPool2D(pool_size=(2, 2),\n",
    "                                              strides=2,\n",
    "                                              padding=\"same\")\n",
    "\n",
    "    def call(self, inputs):\n",
    "        x = self.bn(inputs)\n",
    "        x = tf.keras.activations.relu(x)\n",
    "        x = self.conv(x)\n",
    "        x = self.pool(x)\n",
    "        return x\n",
    "    \n",
    "blk = TransitionLayer(10)\n",
    "blk(Y).shape"
   ]
  },
  {
   "cell_type": "code",
   "execution_count": 13,
   "metadata": {},
   "outputs": [
    {
     "name": "stdout",
     "output_type": "stream",
     "text": [
      "Model: \"sequential_4\"\n",
      "_________________________________________________________________\n",
      "Layer (type)                 Output Shape              Param #   \n",
      "=================================================================\n",
      "conv2d_10 (Conv2D)           (None, 14, 14, 64)        3200      \n",
      "_________________________________________________________________\n",
      "batch_normalization_5 (Batch (None, 14, 14, 64)        256       \n",
      "_________________________________________________________________\n",
      "max_pooling2d_1 (MaxPooling2 (None, 7, 7, 64)          0         \n",
      "_________________________________________________________________\n",
      "dense_block_1 (DenseBlock)   (None, 7, 7, 192)         209280    \n",
      "_________________________________________________________________\n",
      "transition_layer_1 (Transiti (None, 4, 4, 96)          19296     \n",
      "_________________________________________________________________\n",
      "dense_block_2 (DenseBlock)   (None, 4, 4, 224)         226176    \n",
      "_________________________________________________________________\n",
      "transition_layer_2 (Transiti (None, 2, 2, 112)         26096     \n",
      "_________________________________________________________________\n",
      "dense_block_3 (DenseBlock)   (None, 2, 2, 240)         234624    \n",
      "_________________________________________________________________\n",
      "transition_layer_3 (Transiti (None, 1, 1, 120)         29880     \n",
      "_________________________________________________________________\n",
      "dense_block_4 (DenseBlock)   (None, 1, 1, 248)         238848    \n",
      "_________________________________________________________________\n",
      "global_average_pooling2d (Gl (None, 248)               0         \n",
      "_________________________________________________________________\n",
      "dense (Dense)                (None, 10)                2490      \n",
      "=================================================================\n",
      "Total params: 990,146\n",
      "Trainable params: 979,938\n",
      "Non-trainable params: 10,208\n",
      "_________________________________________________________________\n"
     ]
    }
   ],
   "source": [
    "# 实现\n",
    "\n",
    "num_init_features=64\n",
    "growth_rate=32 \n",
    "block_layers=[4,4,4,4]\n",
    "# 此时第一次经过DenseNet的向前运算输出通道数为64+32*4 = 192，每次增加的通道数为32*4=128\n",
    "\n",
    "compression_rate=0.5\n",
    "drop_rate=0.5\n",
    "\n",
    "model = tf.keras.models.Sequential()\n",
    "model.add(tf.keras.layers.Conv2D(filters=num_init_features,kernel_size=(7, 7),strides=2, padding=\"same\", input_shape=(28,28,1)))\n",
    "model.add(tf.keras.layers.BatchNormalization())\n",
    "model.add(tf.keras.layers.MaxPool2D(pool_size=(3, 3), strides=2,  padding=\"same\"))\n",
    "\n",
    "num_channels = num_init_features\n",
    "model.add(DenseBlock(num_layers=block_layers[0], growth_rate=growth_rate, drop_rate=drop_rate))\n",
    "num_channels += growth_rate * block_layers[0]\n",
    "num_channels = compression_rate * num_channels\n",
    "model.add(TransitionLayer(out_channels=int(num_channels)))\n",
    "\n",
    "model.add(DenseBlock(num_layers=block_layers[1], growth_rate=growth_rate, drop_rate=drop_rate))\n",
    "num_channels += growth_rate * block_layers[1]\n",
    "num_channels = compression_rate * num_channels\n",
    "model.add(TransitionLayer(out_channels=int(num_channels)))\n",
    "\n",
    "model.add(DenseBlock(num_layers=block_layers[2], growth_rate=growth_rate, drop_rate=drop_rate))\n",
    "num_channels += growth_rate * block_layers[2]\n",
    "num_channels = compression_rate * num_channels\n",
    "model.add(TransitionLayer(out_channels=int(num_channels)))\n",
    "\n",
    "model.add(DenseBlock(num_layers=block_layers[3], growth_rate=growth_rate, drop_rate=drop_rate))\n",
    "\n",
    "model.add(tf.keras.layers.GlobalAveragePooling2D())\n",
    "model.add(tf.keras.layers.Dense(10, activation=tf.keras.activations.softmax))\n",
    "\n",
    "model.summary()"
   ]
  },
  {
   "cell_type": "code",
   "execution_count": 14,
   "metadata": {},
   "outputs": [
    {
     "name": "stdout",
     "output_type": "stream",
     "text": [
      "Train on 48000 samples, validate on 12000 samples\n",
      "Epoch 1/5\n",
      "48000/48000 [==============================] - 146s 3ms/sample - loss: 0.7162 - accuracy: 0.7302 - val_loss: 0.4562 - val_accuracy: 0.8381\n",
      "Epoch 2/5\n",
      "48000/48000 [==============================] - 139s 3ms/sample - loss: 0.4000 - accuracy: 0.8524 - val_loss: 0.4215 - val_accuracy: 0.8529\n",
      "Epoch 3/5\n",
      "48000/48000 [==============================] - 140s 3ms/sample - loss: 0.3365 - accuracy: 0.8764 - val_loss: 0.3387 - val_accuracy: 0.8773\n",
      "Epoch 4/5\n",
      "48000/48000 [==============================] - 142s 3ms/sample - loss: 0.3048 - accuracy: 0.8871 - val_loss: 0.3313 - val_accuracy: 0.8807\n",
      "Epoch 5/5\n",
      "48000/48000 [==============================] - 151s 3ms/sample - loss: 0.2828 - accuracy: 0.8950 - val_loss: 0.3079 - val_accuracy: 0.8909\n",
      "10000/1 - 6s - loss: 0.3374 - accuracy: 0.8858\n"
     ]
    }
   ],
   "source": [
    "(x_train, y_train), (x_test, y_test) = tf.keras.datasets.fashion_mnist.load_data()\n",
    "x_train = x_train.reshape((60000, 28, 28, 1)).astype('float32') / 255\n",
    "x_test = x_test.reshape((10000, 28, 28, 1)).astype('float32') / 255\n",
    "\n",
    "model.compile(loss='sparse_categorical_crossentropy',\n",
    "              optimizer=tf.keras.optimizers.Adam(),\n",
    "              metrics=['accuracy'])\n",
    "\n",
    "history = model.fit(x_train, y_train,\n",
    "                    batch_size=64,\n",
    "                    epochs=5,\n",
    "                    validation_split=0.2)\n",
    "test_scores = model.evaluate(x_test, y_test, verbose=2)"
   ]
  }
 ],
 "metadata": {
  "kernelspec": {
   "display_name": "Python 3",
   "language": "python",
   "name": "python3"
  },
  "language_info": {
   "codemirror_mode": {
    "name": "ipython",
    "version": 3
   },
   "file_extension": ".py",
   "mimetype": "text/x-python",
   "name": "python",
   "nbconvert_exporter": "python",
   "pygments_lexer": "ipython3",
   "version": "3.6.4"
  }
 },
 "nbformat": 4,
 "nbformat_minor": 2
}
