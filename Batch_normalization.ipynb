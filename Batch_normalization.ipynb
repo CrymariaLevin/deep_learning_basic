{
 "cells": [
  {
   "cell_type": "code",
   "execution_count": 1,
   "metadata": {},
   "outputs": [
    {
     "name": "stdout",
     "output_type": "stream",
     "text": [
      "2.1.0\n"
     ]
    }
   ],
   "source": [
    "# -*-conding: utf8 -*-\n",
    "# !/usr/bin/python\n",
    "# Author: Selvaria\n",
    "\n",
    "# 批量归一化层\n",
    "\n",
    "import tensorflow as tf\n",
    "import numpy as np\n",
    "print(tf.__version__)"
   ]
  },
  {
   "cell_type": "code",
   "execution_count": 4,
   "metadata": {},
   "outputs": [],
   "source": [
    "# 5.10.1.1. 对全连接层做批量归一化\n",
    "\n",
    "import numpy as np\n",
    "\n",
    "#这里要传入的是numpy格式的矩阵而非tf格式的tensor\n",
    "def batch_norm(is_training,X, gamma, beta, moving_mean, moving_var, eps, momentum):\n",
    "    # 判断是当前模式是训练模式还是预测模式\n",
    "    if not is_training:\n",
    "        # 如果是在预测模式下，直接使用传入的移动平均所得的均值和方差\n",
    "        X_hat = (X - moving_mean) / np.sqrt(moving_var + eps)\n",
    "    else:\n",
    "        assert len(X.shape) in (2, 4)\n",
    "        if len(X.shape) == 2:\n",
    "            # 使用全连接层的情况，计算特征维上的均值和方差\n",
    "            mean = X.mean(axis=0)\n",
    "            var = ((X - mean) ** 2).mean(axis=0)\n",
    "        else:\n",
    "            # 使用二维卷积层的情况，计算通道维上（axis=1）的均值和方差。这里我们需要保持X的形状以便后面可以做广播运算\n",
    "            # 但是tf是把通道数放在最后一个轴上的\n",
    "            mean = X.mean(axis=(0, 2, 3), keepdims=True)\n",
    "            var = ((X - mean) ** 2).mean(axis=(0, 2, 3), keepdims=True)\n",
    "        # 训练模式下用当前的均值和方差做标准化\n",
    "        X_hat = (X - mean) / np.sqrt(var + eps)\n",
    "        # 更新移动平均的均值和方差\n",
    "        moving_mean = momentum * moving_mean + (1.0 - momentum) * mean\n",
    "        moving_var = momentum * moving_var + (1.0 - momentum) * var\n",
    "    Y = gamma * X_hat + beta  # 拉伸和偏移\n",
    "    return Y, moving_mean, moving_var"
   ]
  },
  {
   "cell_type": "code",
   "execution_count": 11,
   "metadata": {},
   "outputs": [
    {
     "name": "stdout",
     "output_type": "stream",
     "text": [
      "[[[2.65484187 1.24216043]\n",
      "  [4.13411042 3.52088189]\n",
      "  [1.92389752 4.99148122]\n",
      "  [0.47979447 3.7273825 ]]\n",
      "\n",
      " [[0.43150668 2.68431344]\n",
      "  [0.3172725  1.29193138]\n",
      "  [0.25944173 3.9302805 ]\n",
      "  [0.46150003 4.55554984]]]\n",
      "(2, 4, 2)\n",
      "[[1.54317427 1.96323694]\n",
      " [2.22569146 2.40640663]\n",
      " [1.09166962 4.46088086]\n",
      " [0.47064725 4.14146617]]\n",
      "2.2878966511115326\n"
     ]
    }
   ],
   "source": [
    "#\n",
    "\n",
    "# X = tf.random.uniform((2,4)) \n",
    "X = np.random.uniform(0,5,size=(2,4,2)) \n",
    "print(X)\n",
    "print(X.shape)\n",
    "print(X.mean(axis=0))\n",
    "print(X.mean(axis=(0, 1, 2)))"
   ]
  },
  {
   "cell_type": "code",
   "execution_count": 15,
   "metadata": {},
   "outputs": [
    {
     "name": "stdout",
     "output_type": "stream",
     "text": [
      "Model: \"sequential_3\"\n",
      "_________________________________________________________________\n",
      "Layer (type)                 Output Shape              Param #   \n",
      "=================================================================\n",
      "conv2d_6 (Conv2D)            (None, 24, 24, 6)         156       \n",
      "_________________________________________________________________\n",
      "batch_normalization_12 (Batc (None, 24, 24, 6)         24        \n",
      "_________________________________________________________________\n",
      "activation_12 (Activation)   (None, 24, 24, 6)         0         \n",
      "_________________________________________________________________\n",
      "max_pooling2d_6 (MaxPooling2 (None, 12, 12, 6)         0         \n",
      "_________________________________________________________________\n",
      "conv2d_7 (Conv2D)            (None, 8, 8, 16)          2416      \n",
      "_________________________________________________________________\n",
      "batch_normalization_13 (Batc (None, 8, 8, 16)          64        \n",
      "_________________________________________________________________\n",
      "activation_13 (Activation)   (None, 8, 8, 16)          0         \n",
      "_________________________________________________________________\n",
      "max_pooling2d_7 (MaxPooling2 (None, 4, 4, 16)          0         \n",
      "_________________________________________________________________\n",
      "flatten_3 (Flatten)          (None, 256)               0         \n",
      "_________________________________________________________________\n",
      "dense_9 (Dense)              (None, 120)               30840     \n",
      "_________________________________________________________________\n",
      "batch_normalization_14 (Batc (None, 120)               480       \n",
      "_________________________________________________________________\n",
      "activation_14 (Activation)   (None, 120)               0         \n",
      "_________________________________________________________________\n",
      "dense_10 (Dense)             (None, 84)                10164     \n",
      "_________________________________________________________________\n",
      "batch_normalization_15 (Batc (None, 84)                336       \n",
      "_________________________________________________________________\n",
      "activation_15 (Activation)   (None, 84)                0         \n",
      "_________________________________________________________________\n",
      "dense_11 (Dense)             (None, 10)                850       \n",
      "=================================================================\n",
      "Total params: 45,330\n",
      "Trainable params: 44,878\n",
      "Non-trainable params: 452\n",
      "_________________________________________________________________\n"
     ]
    }
   ],
   "source": [
    "# tf实现\n",
    "\n",
    "net = tf.keras.models.Sequential()\n",
    "net.add(tf.keras.layers.Conv2D(filters=6,kernel_size=5, input_shape=(28, 28, 1)))\n",
    "net.add(tf.keras.layers.BatchNormalization())\n",
    "net.add(tf.keras.layers.Activation('sigmoid'))\n",
    "net.add(tf.keras.layers.MaxPool2D(pool_size=2, strides=2))\n",
    "net.add(tf.keras.layers.Conv2D(filters=16,kernel_size=5))\n",
    "net.add(tf.keras.layers.BatchNormalization())\n",
    "net.add(tf.keras.layers.Activation('sigmoid'))\n",
    "net.add(tf.keras.layers.MaxPool2D(pool_size=2, strides=2))\n",
    "net.add(tf.keras.layers.Flatten())\n",
    "net.add(tf.keras.layers.Dense(120))\n",
    "net.add(tf.keras.layers.BatchNormalization())\n",
    "net.add(tf.keras.layers.Activation('sigmoid'))\n",
    "net.add(tf.keras.layers.Dense(84))\n",
    "net.add(tf.keras.layers.BatchNormalization())\n",
    "net.add(tf.keras.layers.Activation('sigmoid'))\n",
    "net.add(tf.keras.layers.Dense(10,activation='sigmoid'))\n",
    "\n",
    "net.summary()"
   ]
  },
  {
   "cell_type": "code",
   "execution_count": 22,
   "metadata": {},
   "outputs": [
    {
     "name": "stdout",
     "output_type": "stream",
     "text": [
      "Train on 48000 samples, validate on 12000 samples\n",
      "Epoch 1/5\n",
      "48000/48000 [==============================] - 4s 80us/sample - loss: 0.0117 - accuracy: 0.9961 - val_loss: 0.0584 - val_accuracy: 0.9831\n",
      "Epoch 2/5\n",
      "48000/48000 [==============================] - 3s 56us/sample - loss: 0.0101 - accuracy: 0.9965 - val_loss: 0.0953 - val_accuracy: 0.9759\n",
      "Epoch 3/5\n",
      "48000/48000 [==============================] - 3s 62us/sample - loss: 0.0089 - accuracy: 0.9972 - val_loss: 0.0487 - val_accuracy: 0.9852\n",
      "Epoch 4/5\n",
      "48000/48000 [==============================] - 3s 65us/sample - loss: 0.0082 - accuracy: 0.9973 - val_loss: 0.0427 - val_accuracy: 0.9883\n",
      "Epoch 5/5\n",
      "48000/48000 [==============================] - 3s 59us/sample - loss: 0.0085 - accuracy: 0.9973 - val_loss: 0.0926 - val_accuracy: 0.9752\n",
      "10000/10000 - 0s - loss: 0.1163 - accuracy: 0.9711\n",
      "Test loss: 0.1162910664813593\n",
      "Test accuracy: 0.9711\n"
     ]
    }
   ],
   "source": [
    "(x_train, y_train), (x_test, y_test) = tf.keras.datasets.mnist.load_data()\n",
    "x_train = x_train.reshape((60000, 28, 28, 1)).astype('float32') / 255\n",
    "x_test = x_test.reshape((10000, 28, 28, 1)).astype('float32') / 255\n",
    "\n",
    "net.compile(loss='sparse_categorical_crossentropy',\n",
    "              optimizer=tf.keras.optimizers.RMSprop(),\n",
    "              metrics=['accuracy'])\n",
    "history = net.fit(x_train, y_train,\n",
    "                    batch_size=64,\n",
    "                    epochs=5,\n",
    "                    validation_split=0.2)\n",
    "test_scores = net.evaluate(x_test, y_test, verbose=2)\n",
    "print('Test loss:', test_scores[0])\n",
    "print('Test accuracy:', test_scores[1])"
   ]
  },
  {
   "cell_type": "code",
   "execution_count": 17,
   "metadata": {},
   "outputs": [
    {
     "name": "stdout",
     "output_type": "stream",
     "text": [
      "Model: \"sequential_4\"\n",
      "_________________________________________________________________\n",
      "Layer (type)                 Output Shape              Param #   \n",
      "=================================================================\n",
      "conv2d_8 (Conv2D)            (None, 24, 24, 6)         156       \n",
      "_________________________________________________________________\n",
      "batch_normalization_16 (Batc (None, 24, 24, 6)         24        \n",
      "_________________________________________________________________\n",
      "max_pooling2d_8 (MaxPooling2 (None, 12, 12, 6)         0         \n",
      "_________________________________________________________________\n",
      "conv2d_9 (Conv2D)            (None, 8, 8, 16)          2416      \n",
      "_________________________________________________________________\n",
      "batch_normalization_17 (Batc (None, 8, 8, 16)          64        \n",
      "_________________________________________________________________\n",
      "max_pooling2d_9 (MaxPooling2 (None, 4, 4, 16)          0         \n",
      "_________________________________________________________________\n",
      "flatten_4 (Flatten)          (None, 256)               0         \n",
      "_________________________________________________________________\n",
      "dense_12 (Dense)             (None, 120)               30840     \n",
      "_________________________________________________________________\n",
      "batch_normalization_18 (Batc (None, 120)               480       \n",
      "_________________________________________________________________\n",
      "dense_13 (Dense)             (None, 84)                10164     \n",
      "_________________________________________________________________\n",
      "batch_normalization_19 (Batc (None, 84)                336       \n",
      "_________________________________________________________________\n",
      "dense_14 (Dense)             (None, 10)                850       \n",
      "=================================================================\n",
      "Total params: 45,330\n",
      "Trainable params: 44,878\n",
      "Non-trainable params: 452\n",
      "_________________________________________________________________\n"
     ]
    }
   ],
   "source": [
    "# tf实现\n",
    "\n",
    "model = tf.keras.models.Sequential()\n",
    "model.add(tf.keras.layers.Conv2D(filters=6,kernel_size=5, input_shape=(28, 28, 1), activation='sigmoid'))\n",
    "model.add(tf.keras.layers.BatchNormalization())\n",
    "model.add(tf.keras.layers.MaxPool2D(pool_size=2, strides=2))\n",
    "model.add(tf.keras.layers.Conv2D(filters=16,kernel_size=5, activation='sigmoid'))\n",
    "model.add(tf.keras.layers.BatchNormalization())\n",
    "model.add(tf.keras.layers.MaxPool2D(pool_size=2, strides=2))\n",
    "model.add(tf.keras.layers.Flatten())\n",
    "model.add(tf.keras.layers.Dense(120, activation='sigmoid'))\n",
    "model.add(tf.keras.layers.BatchNormalization())\n",
    "model.add(tf.keras.layers.Dense(84, activation='sigmoid'))\n",
    "model.add(tf.keras.layers.BatchNormalization())\n",
    "model.add(tf.keras.layers.Dense(10,activation='sigmoid'))\n",
    "\n",
    "model.summary()"
   ]
  },
  {
   "cell_type": "code",
   "execution_count": 23,
   "metadata": {},
   "outputs": [
    {
     "name": "stdout",
     "output_type": "stream",
     "text": [
      "Train on 48000 samples, validate on 12000 samples\n",
      "Epoch 1/5\n",
      "48000/48000 [==============================] - 4s 73us/sample - loss: 0.0279 - accuracy: 0.9909 - val_loss: 0.0648 - val_accuracy: 0.9816\n",
      "Epoch 2/5\n",
      "48000/48000 [==============================] - 3s 58us/sample - loss: 0.0230 - accuracy: 0.9923 - val_loss: 0.0504 - val_accuracy: 0.9851\n",
      "Epoch 3/5\n",
      "48000/48000 [==============================] - 3s 56us/sample - loss: 0.0206 - accuracy: 0.9937 - val_loss: 0.0569 - val_accuracy: 0.9850\n",
      "Epoch 4/5\n",
      "48000/48000 [==============================] - 3s 57us/sample - loss: 0.0175 - accuracy: 0.9944 - val_loss: 0.0590 - val_accuracy: 0.9854\n",
      "Epoch 5/5\n",
      "48000/48000 [==============================] - 3s 57us/sample - loss: 0.0155 - accuracy: 0.9947 - val_loss: 0.0568 - val_accuracy: 0.9858\n",
      "10000/10000 - 0s - loss: 0.0489 - accuracy: 0.9866\n",
      "Test loss: 0.04888061691381736\n",
      "Test accuracy: 0.9866\n"
     ]
    }
   ],
   "source": [
    "model.compile(loss='sparse_categorical_crossentropy',\n",
    "              optimizer=tf.keras.optimizers.RMSprop(),\n",
    "              metrics=['accuracy'])\n",
    "history = model.fit(x_train, y_train,\n",
    "                    batch_size=64,\n",
    "                    epochs=5,\n",
    "                    validation_split=0.2)\n",
    "test_scores = model.evaluate(x_test, y_test, verbose=2)\n",
    "print('Test loss:', test_scores[0])\n",
    "print('Test accuracy:', test_scores[1])"
   ]
  }
 ],
 "metadata": {
  "kernelspec": {
   "display_name": "Python 3",
   "language": "python",
   "name": "python3"
  },
  "language_info": {
   "codemirror_mode": {
    "name": "ipython",
    "version": 3
   },
   "file_extension": ".py",
   "mimetype": "text/x-python",
   "name": "python",
   "nbconvert_exporter": "python",
   "pygments_lexer": "ipython3",
   "version": "3.6.4"
  }
 },
 "nbformat": 4,
 "nbformat_minor": 2
}
